{
 "cells": [
  {
   "cell_type": "markdown",
   "id": "701f2b14",
   "metadata": {},
   "source": [
    "## DoWhyWrapper\n",
    "Use case to test the DoWhy single estimator pipeline. \n",
    "Causal inference pipeline using DoWhy follows these 4 steps:\n",
    "    \n",
    "Step 1: Model the problem as a causal graph <br>\n",
    "Step 2: Identify causal effect using properties of the causal graph <br>\n",
    "Step 3: Estimate the causal effect <br>\n",
    "Step 4: Refute the estimate <br>\n",
    "\n",
    "This signle estimator pipeline builds the model and identify causal effect in __init__ function, and estimate causal effect by calling function estimate_effect(). "
   ]
  },
  {
   "cell_type": "code",
   "execution_count": 9,
   "id": "b96d3864",
   "metadata": {},
   "outputs": [],
   "source": [
    "import numpy as np\n",
    "import pandas as pd\n",
    "import logging\n",
    "import dowhy.datasets\n",
    "import warnings\n",
    "warnings.filterwarnings('ignore')\n",
    "\n",
    "import DoWhyWrapper as dw"
   ]
  },
  {
   "cell_type": "code",
   "execution_count": 6,
   "id": "fb116ab6",
   "metadata": {},
   "outputs": [
    {
     "name": "stdout",
     "output_type": "stream",
     "text": [
      "         X0        X1   Z0        Z1        W0        W1 W2 W3         v0  \\\n",
      "0  0.622146  0.313640  0.0  0.728865 -0.744456 -0.870246  1  0   6.730920   \n",
      "1  0.323380 -0.480560  0.0  0.344802 -0.114414 -1.345009  0  1  -0.498094   \n",
      "2  1.513350 -1.954286  1.0  0.322154 -0.735807 -0.773046  0  0   7.762403   \n",
      "3  0.090779  0.114228  0.0  0.002952 -0.893687 -1.831622  0  2  -6.740592   \n",
      "4 -0.170646 -1.859661  0.0  0.551105 -0.934392 -0.097023  1  2  10.350205   \n",
      "\n",
      "           y  \n",
      "0  84.793741  \n",
      "1  -5.022070  \n",
      "2  95.102932  \n",
      "3 -69.694987  \n",
      "4  78.979495  \n",
      "True causal estimate is 11.679071359688782\n"
     ]
    }
   ],
   "source": [
    "BETA=10\n",
    "data = dowhy.datasets.linear_dataset(BETA, num_common_causes=4, num_samples=10000,\n",
    "                                    num_instruments=2, num_effect_modifiers=2,\n",
    "                                     num_treatments=1,\n",
    "                                    treatment_is_binary=False,\n",
    "                                    num_discrete_common_causes=2,\n",
    "                                    num_discrete_effect_modifiers=0,\n",
    "                                    one_hot_encode=False)\n",
    "df=data['df']\n",
    "print(df.head())\n",
    "print(\"True causal estimate is\", data[\"ate\"])"
   ]
  },
  {
   "cell_type": "code",
   "execution_count": 7,
   "id": "f9392bec",
   "metadata": {},
   "outputs": [
    {
     "data": {
      "text/plain": [
       "['v0']"
      ]
     },
     "execution_count": 7,
     "metadata": {},
     "output_type": "execute_result"
    }
   ],
   "source": [
    "data[\"treatment_name\"]"
   ]
  },
  {
   "cell_type": "code",
   "execution_count": 10,
   "id": "a9fef825",
   "metadata": {},
   "outputs": [
    {
     "name": "stdout",
     "output_type": "stream",
     "text": [
      "------Step 2: Identifying causal effect------\n",
      "Estimand type: nonparametric-ate\n",
      "\n",
      "### Estimand : 1\n",
      "Estimand name: backdoor\n",
      "Estimand expression:\n",
      "  d                                    \n",
      "─────(Expectation(y|W2,X0,X1,W1,W3,W0))\n",
      "d[v₀]                                  \n",
      "Estimand assumption 1, Unconfoundedness: If U→{v0} and U→y then P(y|v0,W2,X0,X1,W1,W3,W0,U) = P(y|v0,W2,X0,X1,W1,W3,W0)\n",
      "\n",
      "### Estimand : 2\n",
      "Estimand name: iv\n",
      "Estimand expression:\n",
      "Expectation(Derivative(y, [Z0, Z1])*Derivative([v0], [Z0, Z1])**(-1))\n",
      "Estimand assumption 1, As-if-random: If U→→y then ¬(U →→{Z0,Z1})\n",
      "Estimand assumption 2, Exclusion: If we remove {Z0,Z1}→{v0}, then ¬({Z0,Z1}→y)\n",
      "\n",
      "### Estimand : 3\n",
      "Estimand name: frontdoor\n",
      "No such variable found!\n",
      "\n"
     ]
    }
   ],
   "source": [
    "singlePipeline = dw.DoWhyWrapper(df=df, treatment=data[\"treatment_name\"], outcome=data[\"outcome_name\"],\n",
    "                    graph=data[\"gml_graph\"])"
   ]
  },
  {
   "cell_type": "markdown",
   "id": "ca8d7f99",
   "metadata": {},
   "source": [
    "### Linear Model as the default estimator"
   ]
  },
  {
   "cell_type": "code",
   "execution_count": 11,
   "id": "cb1c7633",
   "metadata": {},
   "outputs": [
    {
     "name": "stdout",
     "output_type": "stream",
     "text": [
      "------Step 3: Estimating causal effect------\n",
      "Using method: backdoor.linear_regression\n",
      "DoWhy Causal Estimate is 11.678987415622561\n"
     ]
    }
   ],
   "source": [
    "_ = singlePipeline.estimate_effect()"
   ]
  },
  {
   "cell_type": "markdown",
   "id": "57cc3723",
   "metadata": {},
   "source": [
    "### Estimating CATE using Linear Model\n",
    "Below the estimated effect of changing treatment from 0 to 1"
   ]
  },
  {
   "cell_type": "code",
   "execution_count": 12,
   "id": "78e08539",
   "metadata": {},
   "outputs": [
    {
     "name": "stdout",
     "output_type": "stream",
     "text": [
      "------Step 3: Estimating causal effect------\n",
      "Using method: backdoor.linear_regression\n",
      "DoWhy Causal Estimate is 11.678987415622561\n"
     ]
    }
   ],
   "source": [
    "_ = singlePipeline.estimate_effect(method_name=\"backdoor.linear_regression\",\n",
    "                                       control_value=0,\n",
    "                                       treatment_value=1)"
   ]
  },
  {
   "cell_type": "markdown",
   "id": "573c8c3f",
   "metadata": {},
   "source": [
    "### Estimating CATE using EconML"
   ]
  },
  {
   "cell_type": "code",
   "execution_count": 13,
   "id": "5cf57587",
   "metadata": {},
   "outputs": [
    {
     "name": "stdout",
     "output_type": "stream",
     "text": [
      "------Step 3: Estimating causal effect------\n",
      "Using method: backdoor.econml.dml.DML\n",
      "DoWhy Causal Estimate is 15.22819072957848\n"
     ]
    }
   ],
   "source": [
    "from sklearn.preprocessing import PolynomialFeatures\n",
    "from sklearn.linear_model import LassoCV\n",
    "from sklearn.ensemble import GradientBoostingRegressor\n",
    "\n",
    "\n",
    "_ = singlePipeline.estimate_effect(method_name=\"backdoor.econml.dml.DML\",\n",
    "                                     control_value = 0,\n",
    "                                     treatment_value = 1,\n",
    "                                 target_units = lambda df: df[\"X0\"]>1,  # condition used for CATE\n",
    "                                 confidence_intervals=False,\n",
    "                                method_params={\"init_params\":{'model_y':GradientBoostingRegressor(),\n",
    "                                                              'model_t': GradientBoostingRegressor(),\n",
    "                                                              \"model_final\":LassoCV(fit_intercept=False),\n",
    "                                                              'featurizer':PolynomialFeatures(degree=1, include_bias=False)},\n",
    "                                               \"fit_params\":{}})"
   ]
  },
  {
   "cell_type": "markdown",
   "id": "080b0f28",
   "metadata": {},
   "source": [
    "### CATE and confidence intervals\n",
    "EconML provides its own methods to compute confidence intervals. Using BootstrapInference in the example below."
   ]
  },
  {
   "cell_type": "code",
   "execution_count": 14,
   "id": "144a780e",
   "metadata": {},
   "outputs": [
    {
     "name": "stdout",
     "output_type": "stream",
     "text": [
      "------Step 3: Estimating causal effect------\n",
      "Using method: backdoor.econml.dml.DML\n",
      "DoWhy Causal Estimate is 11.61936772623915\n"
     ]
    }
   ],
   "source": [
    "from sklearn.preprocessing import PolynomialFeatures\n",
    "from sklearn.linear_model import LassoCV\n",
    "from sklearn.ensemble import GradientBoostingRegressor\n",
    "from econml.inference import BootstrapInference\n",
    "_ = singlePipeline.estimate_effect(  method_name=\"backdoor.econml.dml.DML\",\n",
    "                                     target_units = \"ate\",\n",
    "                                     confidence_intervals=True,\n",
    "                                     method_params={\"init_params\":{'model_y':GradientBoostingRegressor(),\n",
    "                                                              'model_t': GradientBoostingRegressor(),\n",
    "                                                              \"model_final\": LassoCV(fit_intercept=False),\n",
    "                                                              'featurizer':PolynomialFeatures(degree=1, include_bias=True)},\n",
    "                                               \"fit_params\":{\n",
    "                                                               'inference': BootstrapInference(n_bootstrap_samples=100, n_jobs=-1),\n",
    "                                                            }\n",
    "                                              })"
   ]
  },
  {
   "cell_type": "markdown",
   "id": "2af13938",
   "metadata": {},
   "source": [
    "### Refuting the estimate"
   ]
  },
  {
   "cell_type": "code",
   "execution_count": 15,
   "id": "60eec23b",
   "metadata": {},
   "outputs": [
    {
     "name": "stdout",
     "output_type": "stream",
     "text": [
      "------Step 4: Refuting the estimate------\n",
      "Refute: Add a Random Common Cause\n",
      "Estimated effect:11.61936772623915\n",
      "New effect:11.602466316417575\n",
      "\n"
     ]
    }
   ],
   "source": [
    "# Adding a random common cause variable\n",
    "_ = singlePipeline.refute_estimate(estimator_name=\"backdoor.econml.dml.DML\", method_name=\"random_common_cause\")"
   ]
  },
  {
   "cell_type": "code",
   "execution_count": null,
   "id": "dec86415",
   "metadata": {},
   "outputs": [],
   "source": [
    "# Replacing treatment with a random (placebo) variable\n",
    "_ = singlePipeline.refute_estimate(estimator_name=\"backdoor.econml.dml.DML\",  method_name=\"data_subset_refuter\", \n",
    "                                   subset_fraction=0.8, num_simulations=10)"
   ]
  },
  {
   "cell_type": "code",
   "execution_count": null,
   "id": "26c7d41f",
   "metadata": {},
   "outputs": [],
   "source": [
    "# Removing a random subset of the data\n",
    "_ = singlePipeline.refute_estimate(estimator_name=\"backdoor.econml.dml.DML\",  method_name=\"placebo_treatment_refuter\", \n",
    "                                   placebo_type=\"permute\", num_simulations=10)"
   ]
  },
  {
   "cell_type": "code",
   "execution_count": null,
   "id": "b8154858",
   "metadata": {},
   "outputs": [],
   "source": []
  },
  {
   "cell_type": "code",
   "execution_count": null,
   "id": "76c52a53",
   "metadata": {},
   "outputs": [],
   "source": []
  }
 ],
 "metadata": {
  "kernelspec": {
   "display_name": "Python 3 (ipykernel)",
   "language": "python",
   "name": "python3"
  },
  "language_info": {
   "codemirror_mode": {
    "name": "ipython",
    "version": 3
   },
   "file_extension": ".py",
   "mimetype": "text/x-python",
   "name": "python",
   "nbconvert_exporter": "python",
   "pygments_lexer": "ipython3",
   "version": "3.7.9"
  }
 },
 "nbformat": 4,
 "nbformat_minor": 5
}
